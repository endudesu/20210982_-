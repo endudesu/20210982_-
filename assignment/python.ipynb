{
  "cells": [
    {
      "cell_type": "markdown",
      "metadata": {
        "colab_type": "text",
        "id": "view-in-github"
      },
      "source": [
        "<a href=\"https://colab.research.google.com/gist/luke-414/de0d44258b05148fb1759c69a3d53bdb/python.ipynb\" target=\"_parent\"><img src=\"https://colab.research.google.com/assets/colab-badge.svg\" alt=\"Open In Colab\"/></a>"
      ]
    },
    {
      "cell_type": "code",
      "execution_count": null,
      "metadata": {
        "id": "h6GWWfZVanfT"
      },
      "outputs": [],
      "source": [
        "strVal = 'data science'               \n",
        "nVal = 12345                         \n",
        "fVal = 1.2                          \n",
        "lVal = ['data', 'science']            \n",
        "dVal = {'lecture' : 'data science'}   \n",
        "bVal = True                           "
      ]
    },
    {
      "cell_type": "code",
      "execution_count": null,
      "metadata": {
        "id": "1iti5n-YbBC-"
      },
      "outputs": [],
      "source": [
        "# 기본적인 주석"
      ]
    },
    {
      "cell_type": "code",
      "execution_count": null,
      "metadata": {
        "id": "Fmi3Ag5JbFsG"
      },
      "outputs": [],
      "source": [
        "''' \n",
        "이런 형태의 주석도 많이 사용\n",
        "'''"
      ]
    },
    {
      "cell_type": "code",
      "execution_count": null,
      "metadata": {
        "id": "al43nPiUeGbL"
      },
      "outputs": [],
      "source": [
        "strVal"
      ]
    },
    {
      "cell_type": "code",
      "execution_count": null,
      "metadata": {
        "id": "hEB2UR8jfsb-"
      },
      "outputs": [],
      "source": [
        "nVal"
      ]
    },
    {
      "cell_type": "code",
      "execution_count": null,
      "metadata": {
        "id": "pNUcxS8ZfsUd"
      },
      "outputs": [],
      "source": [
        "fVal"
      ]
    },
    {
      "cell_type": "code",
      "execution_count": null,
      "metadata": {
        "id": "fsfcn24-fsLS"
      },
      "outputs": [],
      "source": [
        "lVal"
      ]
    },
    {
      "cell_type": "code",
      "execution_count": null,
      "metadata": {
        "id": "6GF01BDLfr5y"
      },
      "outputs": [],
      "source": [
        "dVal"
      ]
    },
    {
      "cell_type": "code",
      "execution_count": null,
      "metadata": {
        "id": "F82K8ey9g2ru"
      },
      "outputs": [],
      "source": [
        "bVal"
      ]
    },
    {
      "cell_type": "code",
      "execution_count": null,
      "metadata": {
        "id": "1CLbnWb_f1D6"
      },
      "outputs": [],
      "source": [
        "print('strVal : ', strVal)\n",
        "print('nVal : ', nVal)\n",
        "print('fVal : ', fVal)\n",
        "print('lVal : ', lVal)\n",
        "print('dVal : ', dVal)\n",
        "print('bVal : ', bVal)"
      ]
    },
    {
      "cell_type": "code",
      "execution_count": null,
      "metadata": {
        "id": "eqkeBWt2fBH-"
      },
      "outputs": [],
      "source": [
        "print('strVal : ', type(strVal))\n",
        "print('nVal : ', type(nVal))\n",
        "print('fVal : ', type(fVal))\n",
        "print('lVal : ', type(lVal))\n",
        "print('dVal : ', type(dVal))\n",
        "print('bVal : ', type(bVal))"
      ]
    },
    {
      "cell_type": "code",
      "execution_count": null,
      "metadata": {
        "id": "w4VNvXwBgnIU"
      },
      "outputs": [],
      "source": [
        "nVal = 16                         \n",
        "fVal = 3.14                       "
      ]
    },
    {
      "cell_type": "code",
      "execution_count": null,
      "metadata": {
        "id": "AM4e4tyIhdKO"
      },
      "outputs": [],
      "source": [
        "print('10진수 표현 : ', nVal)      \n",
        "print('2진수 표현 : ', bin(nVal))  \n",
        "print('8진수 표현 : ', oct(nVal))  \n",
        "print('16진수 표현 : ', hex(nVal))  "
      ]
    },
    {
      "cell_type": "code",
      "execution_count": null,
      "metadata": {
        "id": "1NpDfZi5iNVW"
      },
      "outputs": [],
      "source": [
        "btVal = True                           \n",
        "bfVal = False                          "
      ]
    },
    {
      "cell_type": "code",
      "execution_count": null,
      "metadata": {
        "id": "nuBfvkCyjcIP"
      },
      "outputs": [],
      "source": [
        "btVal = TRUE                          \n",
        "bfVal = FALSE                          "
      ]
    },
    {
      "cell_type": "code",
      "execution_count": null,
      "metadata": {
        "id": "9HGwSh3BjbBV"
      },
      "outputs": [],
      "source": [
        "btVal = true                          \n",
        "bfVal = false                          "
      ]
    },
    {
      "cell_type": "code",
      "execution_count": null,
      "metadata": {
        "id": "5bCNVOuvj11m"
      },
      "outputs": [],
      "source": [
        "10 == 11"
      ]
    },
    {
      "cell_type": "code",
      "execution_count": null,
      "metadata": {
        "id": "Ep0qGWQ1kbqe"
      },
      "outputs": [],
      "source": [
        "10 != 11"
      ]
    },
    {
      "cell_type": "code",
      "execution_count": null,
      "metadata": {
        "id": "LxhUwr4gkhMF"
      },
      "outputs": [],
      "source": [
        "10 >= 11"
      ]
    },
    {
      "cell_type": "code",
      "execution_count": null,
      "metadata": {
        "id": "DlX41LZxkiVV"
      },
      "outputs": [],
      "source": [
        "10 <= 11"
      ]
    },
    {
      "cell_type": "code",
      "execution_count": null,
      "metadata": {
        "id": "-y3MlmXAkk7V"
      },
      "outputs": [],
      "source": [
        "10 > 11"
      ]
    },
    {
      "cell_type": "code",
      "execution_count": null,
      "metadata": {
        "id": "zmmAslbCknPN"
      },
      "outputs": [],
      "source": [
        "10 < 11"
      ]
    },
    {
      "cell_type": "code",
      "execution_count": null,
      "metadata": {
        "id": "yEIirL62koW0"
      },
      "outputs": [],
      "source": [
        "nBig = 100\n",
        "nSmall = 10"
      ]
    },
    {
      "cell_type": "code",
      "execution_count": null,
      "metadata": {
        "id": "uJwjib-Ekwgd"
      },
      "outputs": [],
      "source": [
        "print(nBig == nSmall)\n",
        "print(nBig != nSmall)\n",
        "print(nBig >= nSmall)\n",
        "print(nBig <= nSmall)\n",
        "print(nBig > nSmall)\n",
        "print(nBig < nSmall)"
      ]
    },
    {
      "cell_type": "code",
      "execution_count": null,
      "metadata": {
        "id": "IfABppaxk-ON"
      },
      "outputs": [],
      "source": [
        "print(nBig =< nSmall)     "
      ]
    },
    {
      "cell_type": "code",
      "execution_count": null,
      "metadata": {
        "id": "DA7XT7wnlB_F"
      },
      "outputs": [],
      "source": [
        "print(nBig => nSmall)     "
      ]
    },
    {
      "cell_type": "code",
      "execution_count": null,
      "metadata": {
        "id": "DVROYkI9lNaG"
      },
      "outputs": [],
      "source": [
        "strData = 'data'              \n",
        "strSci = \"Science\"             "
      ]
    },
    {
      "cell_type": "code",
      "execution_count": null,
      "metadata": {
        "id": "NaMAk3PtlzIV"
      },
      "outputs": [],
      "source": [
        "strLecture = strData + strSci"
      ]
    },
    {
      "cell_type": "code",
      "execution_count": null,
      "metadata": {
        "id": "fNvDBOW_l5Js"
      },
      "outputs": [],
      "source": [
        "strLecture"
      ]
    },
    {
      "cell_type": "code",
      "execution_count": null,
      "metadata": {
        "id": "UiOs_EYim_kQ"
      },
      "outputs": [],
      "source": [
        "strLecture = strData +\" \"+ strSci\n",
        "strLecture"
      ]
    },
    {
      "cell_type": "code",
      "execution_count": null,
      "metadata": {
        "id": "fNYgLMlyl6m0"
      },
      "outputs": [],
      "source": [
        "strLecture.split()             "
      ]
    },
    {
      "cell_type": "code",
      "execution_count": null,
      "metadata": {
        "id": "9ZOl1G39mS67"
      },
      "outputs": [],
      "source": [
        "lSeperate = strLecture.split() "
      ]
    },
    {
      "cell_type": "code",
      "execution_count": null,
      "metadata": {
        "id": "QD2gG7RGnaDg"
      },
      "outputs": [],
      "source": [
        "type(lSeperate)"
      ]
    },
    {
      "cell_type": "code",
      "execution_count": null,
      "metadata": {
        "id": "7atr21kDnckf"
      },
      "outputs": [],
      "source": [
        "strHello = \"안녕하세요. 반갑습니다.\""
      ]
    },
    {
      "cell_type": "code",
      "execution_count": null,
      "metadata": {
        "id": "nxkcFPoRop4r"
      },
      "outputs": [],
      "source": [
        "strHello.find(\"반갑\")       "
      ]
    },
    {
      "cell_type": "code",
      "execution_count": null,
      "metadata": {
        "id": "vQbveRmco1jt"
      },
      "outputs": [],
      "source": [
        "strHello.find(\"hello\")    "
      ]
    },
    {
      "cell_type": "code",
      "execution_count": null,
      "metadata": {
        "id": "ZqTNCqaFRZhe"
      },
      "outputs": [],
      "source": [
        "\"반갑\" in strHello         "
      ]
    },
    {
      "cell_type": "code",
      "execution_count": null,
      "metadata": {
        "id": "NC6udtvBpGmO"
      },
      "outputs": [],
      "source": [
        "strHello.replace('.', '?')    "
      ]
    },
    {
      "cell_type": "code",
      "execution_count": null,
      "metadata": {
        "id": "Bobt015Bp-Im"
      },
      "outputs": [],
      "source": [
        "strHello.replace('.', '?')                  \n",
        "strHello.replace(\"하세요\", \"하셔유\")       "
      ]
    },
    {
      "cell_type": "code",
      "execution_count": null,
      "metadata": {
        "id": "4PuFl27Vph1k"
      },
      "outputs": [],
      "source": [
        "strHello                    "
      ]
    },
    {
      "cell_type": "code",
      "execution_count": null,
      "metadata": {
        "id": "k0jWGeqPpjut"
      },
      "outputs": [],
      "source": [
        "strNewHello = strHello.replace('.', '?')                  \n",
        "strNewHello = strNewHello.replace(\"하세요\", \"하셔유\")       \n",
        "strNewHello"
      ]
    },
    {
      "cell_type": "code",
      "execution_count": null,
      "metadata": {
        "id": "CTPN53u2qWMu"
      },
      "outputs": [],
      "source": [
        "strHello.strip('반갑습니다.')    "
      ]
    },
    {
      "cell_type": "code",
      "execution_count": null,
      "metadata": {
        "id": "JLjvm-NGriED"
      },
      "outputs": [],
      "source": [
        "strHello                    "
      ]
    },
    {
      "cell_type": "code",
      "execution_count": null,
      "metadata": {
        "colab": {
          "base_uri": "https://localhost:8080/"
        },
        "id": "uqmkBIhqrnF8",
        "outputId": "a7a6de2f-fe6f-4524-94cc-ee30de3b734a"
      },
      "outputs": [
        {
          "name": "stdout",
          "output_type": "stream",
          "text": [
            "[1, 2, 3, 4, 5]\n",
            "type :  <class 'list'>\n"
          ]
        }
      ],
      "source": [
        "lnData = [1,2,3,4,5]     \n",
        "print(lnData)\n",
        "print('type : ', type(lnData))"
      ]
    },
    {
      "cell_type": "code",
      "execution_count": null,
      "metadata": {
        "id": "OkyUZI6ptWKm"
      },
      "outputs": [],
      "source": [
        "print(lnData[0])    \n",
        "print(lnData[3])    "
      ]
    },
    {
      "cell_type": "code",
      "execution_count": null,
      "metadata": {
        "id": "mccR5e2SumRD"
      },
      "outputs": [],
      "source": [
        "lnData[0] = lnData[4]   \n",
        "print(lnData)           "
      ]
    },
    {
      "cell_type": "code",
      "execution_count": null,
      "metadata": {
        "id": "kjyPH8Z7vLv_"
      },
      "outputs": [],
      "source": [
        "print(lnData[2:4])      "
      ]
    },
    {
      "cell_type": "code",
      "execution_count": null,
      "metadata": {
        "id": "Kga_6rUowVtj"
      },
      "outputs": [],
      "source": [
        "lnData = [1,2,3,4,5]\n",
        "lstrData=['a', 'b', 'c']\n",
        "\n",
        "lnData + lstrData"
      ]
    },
    {
      "cell_type": "code",
      "execution_count": null,
      "metadata": {
        "id": "efDS8gC1yfGu"
      },
      "outputs": [],
      "source": [
        "lnData.append(10)   \n",
        "lnData"
      ]
    },
    {
      "cell_type": "code",
      "execution_count": null,
      "metadata": {
        "id": "mn-Y9GnZzYPi"
      },
      "outputs": [],
      "source": [
        "lnData.insert(0, 'python')  \n",
        "lnData                      "
      ]
    },
    {
      "cell_type": "code",
      "execution_count": null,
      "metadata": {
        "id": "6ws9mj6izkei"
      },
      "outputs": [],
      "source": [
        "lnData.remove('python')     \n",
        "lnData"
      ]
    },
    {
      "cell_type": "code",
      "execution_count": null,
      "metadata": {
        "id": "BqAV3UU70OO-"
      },
      "outputs": [],
      "source": [
        "del lnData[5]              \n",
        "lnData"
      ]
    },
    {
      "cell_type": "code",
      "execution_count": null,
      "metadata": {
        "id": "I_e3IDcf03wG"
      },
      "outputs": [],
      "source": [
        "lnData"
      ]
    },
    {
      "cell_type": "code",
      "execution_count": null,
      "metadata": {
        "id": "WppyjzEe1brd"
      },
      "outputs": [],
      "source": [
        "lnData.pop(0)     \n",
        "lnData"
      ]
    },
    {
      "cell_type": "code",
      "execution_count": null,
      "metadata": {
        "id": "EPOJSDhQ1p8u"
      },
      "outputs": [],
      "source": [
        "lnData.pop()     \n",
        "lnData"
      ]
    },
    {
      "cell_type": "code",
      "execution_count": null,
      "metadata": {
        "id": "dgvWCTS92P4n"
      },
      "outputs": [],
      "source": [
        "lnData.clear()  \n",
        "lnData"
      ]
    },
    {
      "cell_type": "code",
      "execution_count": null,
      "metadata": {
        "colab": {
          "base_uri": "https://localhost:8080/"
        },
        "id": "WQwvaJXnANcD",
        "outputId": "52b054e7-5fbf-4cb0-d5ce-473fce0dbc63"
      },
      "outputs": [
        {
          "name": "stdout",
          "output_type": "stream",
          "text": [
            "('사과', '딸기', '바나나', '토마토', '키위')\n",
            "<class 'tuple'>\n"
          ]
        }
      ],
      "source": [
        "tVal = (\"사과\", \"딸기\", \"바나나\", \"토마토\", \"키위\")\n",
        "\n",
        "print(tVal)\n",
        "print(type(tVal))"
      ]
    },
    {
      "cell_type": "code",
      "execution_count": null,
      "metadata": {
        "colab": {
          "base_uri": "https://localhost:8080/",
          "height": 191
        },
        "id": "JaB__y-sAfmq",
        "outputId": "bb896a48-349a-4d3c-8def-6da662fecbc1"
      },
      "outputs": [
        {
          "ename": "TypeError",
          "evalue": "ignored",
          "output_type": "error",
          "traceback": [
            "\u001b[0;31m---------------------------------------------------------------------------\u001b[0m",
            "\u001b[0;31mTypeError\u001b[0m                                 Traceback (most recent call last)",
            "\u001b[0;32m<ipython-input-2-f79c23b9d3d8>\u001b[0m in \u001b[0;36m<module>\u001b[0;34m\u001b[0m\n\u001b[1;32m      1\u001b[0m \u001b[0;31m# 튜플에 저장된 데이터는 변경이 불가능\u001b[0m\u001b[0;34m\u001b[0m\u001b[0;34m\u001b[0m\u001b[0;34m\u001b[0m\u001b[0m\n\u001b[0;32m----> 2\u001b[0;31m \u001b[0mtVal\u001b[0m\u001b[0;34m[\u001b[0m\u001b[0;36m0\u001b[0m\u001b[0;34m]\u001b[0m \u001b[0;34m=\u001b[0m \u001b[0;34m\"포도\"\u001b[0m\u001b[0;34m\u001b[0m\u001b[0;34m\u001b[0m\u001b[0m\n\u001b[0m",
            "\u001b[0;31mTypeError\u001b[0m: 'tuple' object does not support item assignment"
          ]
        }
      ],
      "source": [
        "tVal[0] = \"포도\""
      ]
    },
    {
      "cell_type": "code",
      "execution_count": null,
      "metadata": {
        "colab": {
          "base_uri": "https://localhost:8080/"
        },
        "id": "cWrLNTPWAvrB",
        "outputId": "0fcdbd30-4ebb-4a8c-e737-9aee346a0f57"
      },
      "outputs": [
        {
          "data": {
            "text/plain": [
              "3"
            ]
          },
          "execution_count": 4,
          "metadata": {},
          "output_type": "execute_result"
        }
      ],
      "source": [
        "tData = ( 1, 2, 3, 1, 2, 3, 4, 5, 1, 2, 7)\n",
        "tData.count(1)"
      ]
    },
    {
      "cell_type": "code",
      "execution_count": null,
      "metadata": {
        "colab": {
          "base_uri": "https://localhost:8080/"
        },
        "id": "QlU2l52fBOph",
        "outputId": "bbdd402f-789f-48e3-8fdc-7f2e487de5da"
      },
      "outputs": [
        {
          "data": {
            "text/plain": [
              "5"
            ]
          },
          "execution_count": 5,
          "metadata": {},
          "output_type": "execute_result"
        }
      ],
      "source": [
        "len(tVal)"
      ]
    },
    {
      "cell_type": "code",
      "execution_count": null,
      "metadata": {
        "colab": {
          "base_uri": "https://localhost:8080/"
        },
        "id": "Mp8h_el_B3GB",
        "outputId": "f89aa9b8-f115-4219-ef7e-4700bdb480c5"
      },
      "outputs": [
        {
          "data": {
            "text/plain": [
              "11"
            ]
          },
          "execution_count": 6,
          "metadata": {},
          "output_type": "execute_result"
        }
      ],
      "source": [
        "len(tData)"
      ]
    },
    {
      "cell_type": "code",
      "execution_count": null,
      "metadata": {
        "colab": {
          "base_uri": "https://localhost:8080/"
        },
        "id": "sptq82B4B5RZ",
        "outputId": "bfc086e6-64e0-407c-8643-19eb9b20695e"
      },
      "outputs": [
        {
          "name": "stdout",
          "output_type": "stream",
          "text": [
            "(3, 1, 2)\n"
          ]
        }
      ],
      "source": [
        "print(tData[2:5])"
      ]
    },
    {
      "cell_type": "code",
      "execution_count": null,
      "metadata": {
        "colab": {
          "base_uri": "https://localhost:8080/"
        },
        "id": "ZSLcdcZyCrNV",
        "outputId": "3778635b-06d1-4672-c677-faca0933f7ee"
      },
      "outputs": [
        {
          "name": "stdout",
          "output_type": "stream",
          "text": [
            "('사과', '딸기', '바나나', '토마토', '키위', 1, 2, 3, 1, 2, 3, 4, 5, 1, 2, 7)\n"
          ]
        }
      ],
      "source": [
        "tTuple = tVal+ tData\n",
        "print(tTuple)"
      ]
    },
    {
      "cell_type": "code",
      "execution_count": null,
      "metadata": {
        "colab": {
          "base_uri": "https://localhost:8080/"
        },
        "id": "MmCxI_YhDbZK",
        "outputId": "54874db0-4ee7-4203-91ec-b602a8b8fe5c"
      },
      "outputs": [
        {
          "data": {
            "text/plain": [
              "(1, 2, 3, 1, 2, 3, 4, 5, 1, 2, 7, 1, 2, 3, 1, 2, 3, 4, 5, 1, 2, 7)"
            ]
          },
          "execution_count": 11,
          "metadata": {},
          "output_type": "execute_result"
        }
      ],
      "source": [
        "tData * 2"
      ]
    },
    {
      "cell_type": "code",
      "execution_count": null,
      "metadata": {
        "colab": {
          "base_uri": "https://localhost:8080/"
        },
        "id": "JpTvGMqNgG79",
        "outputId": "8c23525d-5bef-4123-ca1b-278f769c2cff"
      },
      "outputs": [
        {
          "data": {
            "text/plain": [
              "(1, 2, 3, 1, 2, 3, 4, 5, 1, 2, 7)"
            ]
          },
          "execution_count": 12,
          "metadata": {},
          "output_type": "execute_result"
        }
      ],
      "source": [
        "tData"
      ]
    },
    {
      "cell_type": "code",
      "execution_count": null,
      "metadata": {
        "colab": {
          "base_uri": "https://localhost:8080/"
        },
        "id": "BIZ8l4IrgLr8",
        "outputId": "52aa7f99-d947-4008-bf2d-5802b6fa5c44"
      },
      "outputs": [
        {
          "name": "stdout",
          "output_type": "stream",
          "text": [
            "(1, 2, 3, 1, 2, 3, 4, 5, 1, 2, 7, 1, 2, 3, 1, 2, 3, 4, 5, 1, 2, 7, 1, 2, 3, 1, 2, 3, 4, 5, 1, 2, 7, 1, 2, 3, 1, 2, 3, 4, 5, 1, 2, 7, 1, 2, 3, 1, 2, 3, 4, 5, 1, 2, 7, 1, 2, 3, 1, 2, 3, 4, 5, 1, 2, 7, 1, 2, 3, 1, 2, 3, 4, 5, 1, 2, 7, 1, 2, 3, 1, 2, 3, 4, 5, 1, 2, 7, 1, 2, 3, 1, 2, 3, 4, 5, 1, 2, 7, 1, 2, 3, 1, 2, 3, 4, 5, 1, 2, 7, 1, 2, 3, 1, 2, 3, 4, 5, 1, 2, 7, 1, 2, 3, 1, 2, 3, 4, 5, 1, 2, 7, 1, 2, 3, 1, 2, 3, 4, 5, 1, 2, 7, 1, 2, 3, 1, 2, 3, 4, 5, 1, 2, 7, 1, 2, 3, 1, 2, 3, 4, 5, 1, 2, 7, 1, 2, 3, 1, 2, 3, 4, 5, 1, 2, 7)\n"
          ]
        }
      ],
      "source": [
        "tData2 = tData * 2\n",
        "print(tData2)"
      ]
    },
    {
      "cell_type": "code",
      "execution_count": null,
      "metadata": {
        "colab": {
          "base_uri": "https://localhost:8080/"
        },
        "id": "wFO8n4ghgOcF",
        "outputId": "c8ec468d-0702-495a-bd2d-02f742d9724a"
      },
      "outputs": [
        {
          "name": "stdout",
          "output_type": "stream",
          "text": [
            "tVal memory =  0x3579020\n",
            "tVal memory =  0x4276c20\n",
            "('사과', '딸기', '바나나', '토마토', '키위', '사과', '딸기', '바나나', '토마토', '키위', '사과', '딸기', '바나나', '토마토', '키위', '사과', '딸기', '바나나', '토마토', '키위', '귤', '귤', '귤', '사과', '딸기', '바나나', '토마토', '키위', '사과', '딸기', '바나나', '토마토', '키위', '사과', '딸기', '바나나', '토마토', '키위', '사과', '딸기', '바나나', '토마토', '키위', '귤', '귤', '귤', '사과', '딸기', '바나나', '토마토', '키위', '사과', '딸기', '바나나', '토마토', '키위', '사과', '딸기', '바나나', '토마토', '키위', '사과', '딸기', '바나나', '토마토', '키위', '귤', '귤', '귤', '사과', '딸기', '바나나', '토마토', '키위', '사과', '딸기', '바나나', '토마토', '키위', '사과', '딸기', '바나나', '토마토', '키위', '사과', '딸기', '바나나', '토마토', '키위', '귤', '귤', '귤', '사과', '딸기', '바나나', '토마토', '키위', '사과', '딸기', '바나나', '토마토', '키위', '사과', '딸기', '바나나', '토마토', '키위', '사과', '딸기', '바나나', '토마토', '키위', '귤', '귤', '귤', '사과', '딸기', '바나나', '토마토', '키위', '사과', '딸기', '바나나', '토마토', '키위', '사과', '딸기', '바나나', '토마토', '키위', '사과', '딸기', '바나나', '토마토', '키위', '귤', '귤', '귤', '사과', '딸기', '바나나', '토마토', '키위', '사과', '딸기', '바나나', '토마토', '키위', '사과', '딸기', '바나나', '토마토', '키위', '사과', '딸기', '바나나', '토마토', '키위', '귤', '귤', '귤', '사과', '딸기', '바나나', '토마토', '키위', '사과', '딸기', '바나나', '토마토', '키위', '사과', '딸기', '바나나', '토마토', '키위', '사과', '딸기', '바나나', '토마토', '키위', '귤', '귤', '귤', '사과', '딸기', '바나나', '토마토', '키위', '사과', '딸기', '바나나', '토마토', '키위', '사과', '딸기', '바나나', '토마토', '키위', '사과', '딸기', '바나나', '토마토', '키위', '귤', '귤', '귤', '사과', '딸기', '바나나', '토마토', '키위', '사과', '딸기', '바나나', '토마토', '키위', '사과', '딸기', '바나나', '토마토', '키위', '사과', '딸기', '바나나', '토마토', '키위', '귤', '귤', '귤', '사과', '딸기', '바나나', '토마토', '키위', '사과', '딸기', '바나나', '토마토', '키위', '사과', '딸기', '바나나', '토마토', '키위', '사과', '딸기', '바나나', '토마토', '키위', '귤', '귤', '귤', '사과', '딸기', '바나나', '토마토', '키위', '사과', '딸기', '바나나', '토마토', '키위', '사과', '딸기', '바나나', '토마토', '키위', '사과', '딸기', '바나나', '토마토', '키위', '귤', '귤', '귤', '사과', '딸기', '바나나', '토마토', '키위', '사과', '딸기', '바나나', '토마토', '키위', '사과', '딸기', '바나나', '토마토', '키위', '사과', '딸기', '바나나', '토마토', '키위', '귤', '귤', '귤', '사과', '딸기', '바나나', '토마토', '키위', '사과', '딸기', '바나나', '토마토', '키위', '사과', '딸기', '바나나', '토마토', '키위', '사과', '딸기', '바나나', '토마토', '키위', '귤', '귤', '귤', '사과', '딸기', '바나나', '토마토', '키위', '사과', '딸기', '바나나', '토마토', '키위', '사과', '딸기', '바나나', '토마토', '키위', '사과', '딸기', '바나나', '토마토', '키위', '귤', '귤', '귤', '사과', '딸기', '바나나', '토마토', '키위', '사과', '딸기', '바나나', '토마토', '키위', '사과', '딸기', '바나나', '토마토', '키위', '사과', '딸기', '바나나', '토마토', '키위', '귤', '귤', '귤')\n"
          ]
        }
      ],
      "source": [
        "print(\"tVal memory = \", hex(id(tVal)))\n",
        "tVal = tVal * 2\n",
        "print(\"tVal memory = \", hex(id(tVal)))\n",
        "print(tVal)"
      ]
    },
    {
      "cell_type": "code",
      "execution_count": null,
      "metadata": {
        "colab": {
          "base_uri": "https://localhost:8080/"
        },
        "id": "R4lCRLkZgXms",
        "outputId": "76f1b8fe-6c16-43cf-b703-b13ce5e32a4d"
      },
      "outputs": [
        {
          "name": "stdout",
          "output_type": "stream",
          "text": [
            "tVal memory =  0x4276c20\n",
            "tVal memory =  0x3ccc820\n",
            "('사과', '딸기', '바나나', '토마토', '키위', '사과', '딸기', '바나나', '토마토', '키위', '사과', '딸기', '바나나', '토마토', '키위', '사과', '딸기', '바나나', '토마토', '키위', '귤', '귤', '귤', '사과', '딸기', '바나나', '토마토', '키위', '사과', '딸기', '바나나', '토마토', '키위', '사과', '딸기', '바나나', '토마토', '키위', '사과', '딸기', '바나나', '토마토', '키위', '귤', '귤', '귤', '사과', '딸기', '바나나', '토마토', '키위', '사과', '딸기', '바나나', '토마토', '키위', '사과', '딸기', '바나나', '토마토', '키위', '사과', '딸기', '바나나', '토마토', '키위', '귤', '귤', '귤', '사과', '딸기', '바나나', '토마토', '키위', '사과', '딸기', '바나나', '토마토', '키위', '사과', '딸기', '바나나', '토마토', '키위', '사과', '딸기', '바나나', '토마토', '키위', '귤', '귤', '귤', '사과', '딸기', '바나나', '토마토', '키위', '사과', '딸기', '바나나', '토마토', '키위', '사과', '딸기', '바나나', '토마토', '키위', '사과', '딸기', '바나나', '토마토', '키위', '귤', '귤', '귤', '사과', '딸기', '바나나', '토마토', '키위', '사과', '딸기', '바나나', '토마토', '키위', '사과', '딸기', '바나나', '토마토', '키위', '사과', '딸기', '바나나', '토마토', '키위', '귤', '귤', '귤', '사과', '딸기', '바나나', '토마토', '키위', '사과', '딸기', '바나나', '토마토', '키위', '사과', '딸기', '바나나', '토마토', '키위', '사과', '딸기', '바나나', '토마토', '키위', '귤', '귤', '귤', '사과', '딸기', '바나나', '토마토', '키위', '사과', '딸기', '바나나', '토마토', '키위', '사과', '딸기', '바나나', '토마토', '키위', '사과', '딸기', '바나나', '토마토', '키위', '귤', '귤', '귤', '사과', '딸기', '바나나', '토마토', '키위', '사과', '딸기', '바나나', '토마토', '키위', '사과', '딸기', '바나나', '토마토', '키위', '사과', '딸기', '바나나', '토마토', '키위', '귤', '귤', '귤', '사과', '딸기', '바나나', '토마토', '키위', '사과', '딸기', '바나나', '토마토', '키위', '사과', '딸기', '바나나', '토마토', '키위', '사과', '딸기', '바나나', '토마토', '키위', '귤', '귤', '귤', '사과', '딸기', '바나나', '토마토', '키위', '사과', '딸기', '바나나', '토마토', '키위', '사과', '딸기', '바나나', '토마토', '키위', '사과', '딸기', '바나나', '토마토', '키위', '귤', '귤', '귤', '사과', '딸기', '바나나', '토마토', '키위', '사과', '딸기', '바나나', '토마토', '키위', '사과', '딸기', '바나나', '토마토', '키위', '사과', '딸기', '바나나', '토마토', '키위', '귤', '귤', '귤', '사과', '딸기', '바나나', '토마토', '키위', '사과', '딸기', '바나나', '토마토', '키위', '사과', '딸기', '바나나', '토마토', '키위', '사과', '딸기', '바나나', '토마토', '키위', '귤', '귤', '귤', '사과', '딸기', '바나나', '토마토', '키위', '사과', '딸기', '바나나', '토마토', '키위', '사과', '딸기', '바나나', '토마토', '키위', '사과', '딸기', '바나나', '토마토', '키위', '귤', '귤', '귤', '사과', '딸기', '바나나', '토마토', '키위', '사과', '딸기', '바나나', '토마토', '키위', '사과', '딸기', '바나나', '토마토', '키위', '사과', '딸기', '바나나', '토마토', '키위', '귤', '귤', '귤', '사과', '딸기', '바나나', '토마토', '키위', '사과', '딸기', '바나나', '토마토', '키위', '사과', '딸기', '바나나', '토마토', '키위', '사과', '딸기', '바나나', '토마토', '키위', '귤', '귤', '귤', '사과', '딸기', '바나나', '토마토', '키위', '사과', '딸기', '바나나', '토마토', '키위', '사과', '딸기', '바나나', '토마토', '키위', '사과', '딸기', '바나나', '토마토', '키위', '귤', '귤', '귤', '사과', '딸기', '바나나', '토마토', '키위', '사과', '딸기', '바나나', '토마토', '키위', '사과', '딸기', '바나나', '토마토', '키위', '사과', '딸기', '바나나', '토마토', '키위', '귤', '귤', '귤', '사과', '딸기', '바나나', '토마토', '키위', '사과', '딸기', '바나나', '토마토', '키위', '사과', '딸기', '바나나', '토마토', '키위', '사과', '딸기', '바나나', '토마토', '키위', '귤', '귤', '귤', '사과', '딸기', '바나나', '토마토', '키위', '사과', '딸기', '바나나', '토마토', '키위', '사과', '딸기', '바나나', '토마토', '키위', '사과', '딸기', '바나나', '토마토', '키위', '귤', '귤', '귤', '사과', '딸기', '바나나', '토마토', '키위', '사과', '딸기', '바나나', '토마토', '키위', '사과', '딸기', '바나나', '토마토', '키위', '사과', '딸기', '바나나', '토마토', '키위', '귤', '귤', '귤', '사과', '딸기', '바나나', '토마토', '키위', '사과', '딸기', '바나나', '토마토', '키위', '사과', '딸기', '바나나', '토마토', '키위', '사과', '딸기', '바나나', '토마토', '키위', '귤', '귤', '귤', '사과', '딸기', '바나나', '토마토', '키위', '사과', '딸기', '바나나', '토마토', '키위', '사과', '딸기', '바나나', '토마토', '키위', '사과', '딸기', '바나나', '토마토', '키위', '귤', '귤', '귤', '사과', '딸기', '바나나', '토마토', '키위', '사과', '딸기', '바나나', '토마토', '키위', '사과', '딸기', '바나나', '토마토', '키위', '사과', '딸기', '바나나', '토마토', '키위', '귤', '귤', '귤', '사과', '딸기', '바나나', '토마토', '키위', '사과', '딸기', '바나나', '토마토', '키위', '사과', '딸기', '바나나', '토마토', '키위', '사과', '딸기', '바나나', '토마토', '키위', '귤', '귤', '귤', '사과', '딸기', '바나나', '토마토', '키위', '사과', '딸기', '바나나', '토마토', '키위', '사과', '딸기', '바나나', '토마토', '키위', '사과', '딸기', '바나나', '토마토', '키위', '귤', '귤', '귤', '사과', '딸기', '바나나', '토마토', '키위', '사과', '딸기', '바나나', '토마토', '키위', '사과', '딸기', '바나나', '토마토', '키위', '사과', '딸기', '바나나', '토마토', '키위', '귤', '귤', '귤', '사과', '딸기', '바나나', '토마토', '키위', '사과', '딸기', '바나나', '토마토', '키위', '사과', '딸기', '바나나', '토마토', '키위', '사과', '딸기', '바나나', '토마토', '키위', '귤', '귤', '귤', '사과', '딸기', '바나나', '토마토', '키위', '사과', '딸기', '바나나', '토마토', '키위', '사과', '딸기', '바나나', '토마토', '키위', '사과', '딸기', '바나나', '토마토', '키위', '귤', '귤', '귤', '사과', '딸기', '바나나', '토마토', '키위', '사과', '딸기', '바나나', '토마토', '키위', '사과', '딸기', '바나나', '토마토', '키위', '사과', '딸기', '바나나', '토마토', '키위', '귤', '귤', '귤', '사과', '딸기', '바나나', '토마토', '키위', '사과', '딸기', '바나나', '토마토', '키위', '사과', '딸기', '바나나', '토마토', '키위', '사과', '딸기', '바나나', '토마토', '키위', '귤', '귤', '귤', '사과', '딸기', '바나나', '토마토', '키위', '사과', '딸기', '바나나', '토마토', '키위', '사과', '딸기', '바나나', '토마토', '키위', '사과', '딸기', '바나나', '토마토', '키위', '귤', '귤', '귤')\n"
          ]
        }
      ],
      "source": [
        "print(\"tVal memory = \", hex(id(tVal)))\n",
        "tVal = tVal + tVal\n",
        "print(\"tVal memory = \", hex(id(tVal)))\n",
        "print(tVal)"
      ]
    },
    {
      "cell_type": "code",
      "execution_count": null,
      "metadata": {
        "colab": {
          "base_uri": "https://localhost:8080/"
        },
        "id": "jbDqOscEhBLe",
        "outputId": "8c4c7419-643d-4bd1-d6d9-fff06d83b1af"
      },
      "outputs": [
        {
          "name": "stdout",
          "output_type": "stream",
          "text": [
            "{1, 2, 3}\n",
            "<class 'set'>\n"
          ]
        }
      ],
      "source": [
        "sVal = {1, 2, 3, 4, 5}\n",
        "print(sVal)\n",
        "print(type(sVal))"
      ]
    },
    {
      "cell_type": "code",
      "execution_count": null,
      "metadata": {
        "colab": {
          "base_uri": "https://localhost:8080/",
          "height": 173
        },
        "id": "HiHJud0Ljves",
        "outputId": "c098a3eb-c905-4d28-e6ea-454395eb3161"
      },
      "outputs": [
        {
          "ename": "TypeError",
          "evalue": "ignored",
          "output_type": "error",
          "traceback": [
            "\u001b[0;31m---------------------------------------------------------------------------\u001b[0m",
            "\u001b[0;31mTypeError\u001b[0m                                 Traceback (most recent call last)",
            "\u001b[0;32m<ipython-input-32-5e16076670ae>\u001b[0m in \u001b[0;36m<module>\u001b[0;34m\u001b[0m\n\u001b[0;32m----> 1\u001b[0;31m \u001b[0msVal\u001b[0m\u001b[0;34m[\u001b[0m\u001b[0;36m1\u001b[0m\u001b[0;34m:\u001b[0m\u001b[0;36m2\u001b[0m\u001b[0;34m]\u001b[0m\u001b[0;34m\u001b[0m\u001b[0;34m\u001b[0m\u001b[0m\n\u001b[0m",
            "\u001b[0;31mTypeError\u001b[0m: 'set' object is not subscriptable"
          ]
        }
      ],
      "source": [
        "sVal[1:2]"
      ]
    },
    {
      "cell_type": "code",
      "execution_count": null,
      "metadata": {
        "colab": {
          "base_uri": "https://localhost:8080/"
        },
        "id": "UV7hxbo7kC9L",
        "outputId": "d1c61125-c175-4bcc-d897-afd5ab30b236"
      },
      "outputs": [
        {
          "name": "stdout",
          "output_type": "stream",
          "text": [
            "{1, 2, 3, 100}\n"
          ]
        }
      ],
      "source": [
        "sVal.add(100)\n",
        "print(sVal)"
      ]
    },
    {
      "cell_type": "code",
      "execution_count": null,
      "metadata": {
        "colab": {
          "base_uri": "https://localhost:8080/"
        },
        "id": "YLJAk3hSkh3k",
        "outputId": "41df5f9e-8f56-4a7d-fdd3-3da1eab30a21"
      },
      "outputs": [
        {
          "name": "stdout",
          "output_type": "stream",
          "text": [
            "{1, 2, 3, 100, 200, 300}\n"
          ]
        }
      ],
      "source": [
        "sVal.update([200, 300])\n",
        "print(sVal)"
      ]
    },
    {
      "cell_type": "code",
      "execution_count": null,
      "metadata": {
        "colab": {
          "base_uri": "https://localhost:8080/",
          "height": 210
        },
        "id": "fUygAhknk2VM",
        "outputId": "8af6e6e7-cc14-418f-af44-8a98a4fb54e4"
      },
      "outputs": [
        {
          "ename": "KeyError",
          "evalue": "ignored",
          "output_type": "error",
          "traceback": [
            "\u001b[0;31m---------------------------------------------------------------------------\u001b[0m",
            "\u001b[0;31mKeyError\u001b[0m                                  Traceback (most recent call last)",
            "\u001b[0;32m<ipython-input-39-c7477a8fe3cd>\u001b[0m in \u001b[0;36m<module>\u001b[0;34m\u001b[0m\n\u001b[1;32m      1\u001b[0m \u001b[0;31m# remove 함수를 이용하여 데이터를 삭제할 수 있음\u001b[0m\u001b[0;34m\u001b[0m\u001b[0;34m\u001b[0m\u001b[0;34m\u001b[0m\u001b[0m\n\u001b[0;32m----> 2\u001b[0;31m \u001b[0msVal\u001b[0m\u001b[0;34m.\u001b[0m\u001b[0mremove\u001b[0m\u001b[0;34m(\u001b[0m\u001b[0;36m200\u001b[0m\u001b[0;34m)\u001b[0m\u001b[0;34m\u001b[0m\u001b[0;34m\u001b[0m\u001b[0m\n\u001b[0m\u001b[1;32m      3\u001b[0m \u001b[0mprint\u001b[0m\u001b[0;34m(\u001b[0m\u001b[0msVal\u001b[0m\u001b[0;34m)\u001b[0m\u001b[0;34m\u001b[0m\u001b[0;34m\u001b[0m\u001b[0m\n",
            "\u001b[0;31mKeyError\u001b[0m: 200"
          ]
        }
      ],
      "source": [
        "sVal.remove(200)\n",
        "print(sVal)"
      ]
    },
    {
      "cell_type": "code",
      "execution_count": null,
      "metadata": {
        "colab": {
          "base_uri": "https://localhost:8080/"
        },
        "id": "Fm7J9bUElGZE",
        "outputId": "5f59c46f-085b-4f6a-c8d8-6bcd29779118"
      },
      "outputs": [
        {
          "name": "stdout",
          "output_type": "stream",
          "text": [
            "set()\n"
          ]
        }
      ],
      "source": [
        "sVal.clear()\n",
        "print(sVal)"
      ]
    },
    {
      "cell_type": "code",
      "execution_count": null,
      "metadata": {
        "colab": {
          "base_uri": "https://localhost:8080/"
        },
        "id": "unKzh-M7lSF0",
        "outputId": "35e94780-01a7-4bf3-acb1-abe720953f8b"
      },
      "outputs": [
        {
          "name": "stdout",
          "output_type": "stream",
          "text": [
            "{100, 200, 300, 400, 500}\n",
            "{100, 'b', 300, 'c', 'a'}\n"
          ]
        }
      ],
      "source": [
        "sVal = {100, 200, 300, 400, 500}\n",
        "sData = {\"a\", \"b\", \"c\", \"c\", 100, 300}\n",
        "print(sVal)\n",
        "print(sData)"
      ]
    },
    {
      "cell_type": "code",
      "execution_count": null,
      "metadata": {
        "colab": {
          "base_uri": "https://localhost:8080/"
        },
        "id": "2Y4FDRZel0QE",
        "outputId": "236b690e-228a-482c-ead1-c9a85822340b"
      },
      "outputs": [
        {
          "data": {
            "text/plain": [
              "{100, 300}"
            ]
          },
          "execution_count": 47,
          "metadata": {},
          "output_type": "execute_result"
        }
      ],
      "source": [
        "# intersVal.intersection(sData)"
      ]
    },
    {
      "cell_type": "code",
      "execution_count": null,
      "metadata": {
        "colab": {
          "base_uri": "https://localhost:8080/"
        },
        "id": "g1BL5UxRma2T",
        "outputId": "d2821101-3a98-4473-d26d-f9d7b9bd1179"
      },
      "outputs": [
        {
          "data": {
            "text/plain": [
              "{200, 400, 500}"
            ]
          },
          "execution_count": 48,
          "metadata": {},
          "output_type": "execute_result"
        }
      ],
      "source": [
        "# deference() 함수를 이용하여 차집합을 만들 수 있음\n",
        "sVal.difference(sData)"
      ]
    },
    {
      "cell_type": "code",
      "execution_count": null,
      "metadata": {
        "colab": {
          "base_uri": "https://localhost:8080/"
        },
        "id": "aUzg3dyrmj_U",
        "outputId": "ab28a591-d658-4510-ca48-ce903de9cf7e"
      },
      "outputs": [
        {
          "data": {
            "text/plain": [
              "{200, 400, 500}"
            ]
          },
          "execution_count": 49,
          "metadata": {},
          "output_type": "execute_result"
        }
      ],
      "source": [
        "# \"-\" 연산자로도 가능\n",
        "sVal - sData"
      ]
    },
    {
      "cell_type": "code",
      "execution_count": null,
      "metadata": {
        "colab": {
          "base_uri": "https://localhost:8080/"
        },
        "id": "rdXlYjodml_E",
        "outputId": "7be2b623-c458-44c2-b205-1c339cf0e764"
      },
      "outputs": [
        {
          "data": {
            "text/plain": [
              "{100, 200, 300, 400, 500, 'a', 'b', 'c'}"
            ]
          },
          "execution_count": 50,
          "metadata": {},
          "output_type": "execute_result"
        }
      ],
      "source": [
        "# union() 함수를 이용하여 합집합을 만들 수 있음\n",
        "sVal.union(sData)"
      ]
    },
    {
      "cell_type": "code",
      "execution_count": null,
      "metadata": {
        "colab": {
          "base_uri": "https://localhost:8080/",
          "height": 191
        },
        "id": "RDoVWnNSmyyU",
        "outputId": "a57adb49-8308-454e-9d2e-90857e19ea29"
      },
      "outputs": [
        {
          "ename": "TypeError",
          "evalue": "ignored",
          "output_type": "error",
          "traceback": [
            "\u001b[0;31m---------------------------------------------------------------------------\u001b[0m",
            "\u001b[0;31mTypeError\u001b[0m                                 Traceback (most recent call last)",
            "\u001b[0;32m<ipython-input-51-434dea5769f5>\u001b[0m in \u001b[0;36m<module>\u001b[0;34m\u001b[0m\n\u001b[1;32m      1\u001b[0m \u001b[0;31m# \"+\"연산자로도 가능\u001b[0m\u001b[0;34m\u001b[0m\u001b[0;34m\u001b[0m\u001b[0;34m\u001b[0m\u001b[0m\n\u001b[0;32m----> 2\u001b[0;31m \u001b[0msVal\u001b[0m \u001b[0;34m+\u001b[0m \u001b[0msData\u001b[0m\u001b[0;34m\u001b[0m\u001b[0;34m\u001b[0m\u001b[0m\n\u001b[0m",
            "\u001b[0;31mTypeError\u001b[0m: unsupported operand type(s) for +: 'set' and 'set'"
          ]
        }
      ],
      "source": [
        "# \"+\"연산자는 불가능\n",
        "sVal + sData"
      ]
    },
    {
      "cell_type": "code",
      "execution_count": null,
      "metadata": {
        "colab": {
          "base_uri": "https://localhost:8080/"
        },
        "id": "v_E-N9Q9m3RU",
        "outputId": "8dc35019-309f-43e2-c411-9c2a5053bc8f"
      },
      "outputs": [
        {
          "data": {
            "text/plain": [
              "{200, 400, 500, 'a', 'b', 'c'}"
            ]
          },
          "execution_count": 52,
          "metadata": {},
          "output_type": "execute_result"
        }
      ],
      "source": [
        "# symetric_difference()를 이용하여 합집합에서 교집합을 뺀 집합을 만들 ㅅ ㅜ있음\n",
        "sVal.symmetric_difference(sData)"
      ]
    },
    {
      "cell_type": "markdown",
      "metadata": {
        "id": "5yRM9J54Fiyt"
      },
      "source": [
        "**6. 딕셔너리**\n",
        "\n",
        "**1) 딕셔너리 개념**\n",
        "\n",
        "* 사전의 단어와 설명과 유사하게 키(Key)와 값(Value)로 표현한 구조"
      ]
    },
    {
      "cell_type": "code",
      "execution_count": 2,
      "metadata": {
        "colab": {
          "base_uri": "https://localhost:8080/"
        },
        "id": "T_62cvKVnUqU",
        "outputId": "a1c38eff-93af-43f7-e9c9-4e264f2aa936"
      },
      "outputs": [
        {
          "name": "stdout",
          "output_type": "stream",
          "text": [
            "{'name': '이컴공', 'email': 'computer@hoseo.edu', 'address': '충남 아산시'}\n",
            "<class 'dict'>\n"
          ]
        }
      ],
      "source": [
        "# 딕셔너리 기본 구조는 다음과 같이 표현할 수 있음\n",
        "dVal = {\n",
        "    'name' : '이컴공',\n",
        "    'email' : 'computer@hoseo.edu',\n",
        "    'address' : '충남 아산시'\n",
        "}\n",
        "print(dVal)\n",
        "print(type(dVal))"
      ]
    },
    {
      "cell_type": "markdown",
      "metadata": {
        "id": "fSKM7mPpGac-"
      },
      "source": [
        "**2) 기본 연산**\n",
        "\n",
        "* 항목 검색\n",
        "* 항목 추가\n",
        "* 항목 삭제\n",
        "* 항목 정렬"
      ]
    },
    {
      "cell_type": "code",
      "execution_count": 3,
      "metadata": {
        "id": "mMXkVIrnGSBz"
      },
      "outputs": [],
      "source": [
        "dData = {\n",
        "    \"사과\" : 300, \n",
        "    \"포도\" : 200, \n",
        "    \"배\" : 500,\n",
        "    \"키위\" : 100\n",
        "}"
      ]
    },
    {
      "cell_type": "code",
      "execution_count": 4,
      "metadata": {
        "colab": {
          "base_uri": "https://localhost:8080/"
        },
        "id": "oQbwXQhWG8m5",
        "outputId": "9e3e715c-fd37-443e-c2b2-55d593e8711b"
      },
      "outputs": [
        {
          "name": "stdout",
          "output_type": "stream",
          "text": [
            "500\n"
          ]
        }
      ],
      "source": [
        "# 키를 이용한 항목 검색\n",
        "print(dData[\"배\"])"
      ]
    },
    {
      "cell_type": "code",
      "execution_count": 5,
      "metadata": {
        "colab": {
          "base_uri": "https://localhost:8080/"
        },
        "id": "njHi1yw8HC9N",
        "outputId": "147a3af2-e8bd-4637-a641-9d2749bfb1c6"
      },
      "outputs": [
        {
          "data": {
            "text/plain": [
              "500"
            ]
          },
          "execution_count": 5,
          "metadata": {},
          "output_type": "execute_result"
        }
      ],
      "source": [
        "# get() 함수를 이용한 항목 검색\n",
        "dData.get(\"배\")"
      ]
    },
    {
      "cell_type": "code",
      "execution_count": 6,
      "metadata": {
        "colab": {
          "base_uri": "https://localhost:8080/"
        },
        "id": "MhzGk2V-HI_O",
        "outputId": "1279ff55-bc72-44de-86c2-c448d3f859ff"
      },
      "outputs": [
        {
          "name": "stdout",
          "output_type": "stream",
          "text": [
            "{'사과': 300, '포도': 200, '배': 500, '키위': 100, '딸기': 100}\n"
          ]
        }
      ],
      "source": [
        "# 새로운 키 추가를 통한 항목 추가\n",
        "dData[\"딸기\"] = 100\n",
        "print(dData)"
      ]
    },
    {
      "cell_type": "code",
      "execution_count": 7,
      "metadata": {
        "colab": {
          "base_uri": "https://localhost:8080/"
        },
        "id": "BKRIF4bJHd4s",
        "outputId": "2ed3218d-dd8d-43e2-8f8b-3df9064d3271"
      },
      "outputs": [
        {
          "data": {
            "text/plain": [
              "300"
            ]
          },
          "execution_count": 7,
          "metadata": {},
          "output_type": "execute_result"
        }
      ],
      "source": [
        "# pop을 이용한 항목 삭제\n",
        "dData.pop(\"사과\")"
      ]
    },
    {
      "cell_type": "code",
      "execution_count": 8,
      "metadata": {
        "colab": {
          "base_uri": "https://localhost:8080/"
        },
        "id": "gjR-khuTH0aV",
        "outputId": "85b0574a-e7bd-44de-f2a9-caf307a1628d"
      },
      "outputs": [
        {
          "data": {
            "text/plain": [
              "{'포도': 200, '배': 500, '키위': 100, '딸기': 100}"
            ]
          },
          "execution_count": 8,
          "metadata": {},
          "output_type": "execute_result"
        }
      ],
      "source": [
        "dData"
      ]
    },
    {
      "cell_type": "code",
      "execution_count": 10,
      "metadata": {
        "colab": {
          "base_uri": "https://localhost:8080/",
          "height": 173
        },
        "id": "IzaubwdgH3L0",
        "outputId": "5474207e-51d8-47f9-e609-0a67d935836c"
      },
      "outputs": [
        {
          "ename": "TypeError",
          "evalue": "ignored",
          "output_type": "error",
          "traceback": [
            "\u001b[0;31m---------------------------------------------------------------------------\u001b[0m",
            "\u001b[0;31mTypeError\u001b[0m                                 Traceback (most recent call last)",
            "\u001b[0;32m<ipython-input-10-34b2f8eac69c>\u001b[0m in \u001b[0;36m<module>\u001b[0;34m\u001b[0m\n\u001b[0;32m----> 1\u001b[0;31m \u001b[0mdData\u001b[0m\u001b[0;34m.\u001b[0m\u001b[0mpop\u001b[0m\u001b[0;34m(\u001b[0m\u001b[0;34m)\u001b[0m\u001b[0;34m\u001b[0m\u001b[0;34m\u001b[0m\u001b[0m\n\u001b[0m",
            "\u001b[0;31mTypeError\u001b[0m: pop expected at least 1 arguments, got 0"
          ]
        }
      ],
      "source": [
        "dData.pop()"
      ]
    },
    {
      "cell_type": "code",
      "execution_count": 11,
      "metadata": {
        "colab": {
          "base_uri": "https://localhost:8080/"
        },
        "id": "qclWri0cH970",
        "outputId": "cbd30c43-dd3c-4592-bad9-e8498d293688"
      },
      "outputs": [
        {
          "data": {
            "text/plain": [
              "['딸기', '배', '키위', '포도']"
            ]
          },
          "execution_count": 11,
          "metadata": {},
          "output_type": "execute_result"
        }
      ],
      "source": [
        "# sorted 함수를 이용한 정렬\n",
        "sorted(dData)"
      ]
    },
    {
      "cell_type": "code",
      "execution_count": 13,
      "metadata": {
        "colab": {
          "base_uri": "https://localhost:8080/"
        },
        "id": "fZZ69n5jIV78",
        "outputId": "e65c5d61-6a43-4b77-b248-e289cd29e159"
      },
      "outputs": [
        {
          "data": {
            "text/plain": [
              "[100, 100, 200, 500]"
            ]
          },
          "execution_count": 13,
          "metadata": {},
          "output_type": "execute_result"
        }
      ],
      "source": [
        "# sorted와 values 함수를 이용하여 값을 정렬할 수 있음\n",
        "sorted(dData.values())"
      ]
    },
    {
      "cell_type": "code",
      "execution_count": 12,
      "metadata": {
        "colab": {
          "base_uri": "https://localhost:8080/"
        },
        "id": "sprJIdqtIJok",
        "outputId": "18a89c80-b9cd-40a5-900c-f11559711394"
      },
      "outputs": [
        {
          "data": {
            "text/plain": [
              "{'포도': 200, '배': 500, '키위': 100, '딸기': 100}"
            ]
          },
          "execution_count": 12,
          "metadata": {},
          "output_type": "execute_result"
        }
      ],
      "source": [
        "# 실제 dData는 변화가 없음\n",
        "dData"
      ]
    },
    {
      "cell_type": "markdown",
      "metadata": {
        "id": "_OQ2gq1wLcbj"
      },
      "source": [
        "**7. 함수**\n",
        "\n",
        "**1) 함수의 개념 **\n",
        "\n",
        "* 재사용 가능한 프로그램\n",
        "* def를 통해 함수를 정의하고, return을 사용해 값을 반환\n",
        "들여쓰기 4칸 중요\n",
        "\n",
        "![image.png](data:image/png;base64,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)"
      ]
    },
    {
      "cell_type": "code",
      "execution_count": 14,
      "metadata": {
        "id": "i4s-vgcZIQ0E"
      },
      "outputs": [],
      "source": [
        "# 함수 f(x)를 생성하고 x 값을 입력으로 받음\n",
        "def f(x):\n",
        "  # x에 10을 더한 값을 출력\n",
        "  return x + 10"
      ]
    },
    {
      "cell_type": "code",
      "execution_count": 15,
      "metadata": {
        "colab": {
          "base_uri": "https://localhost:8080/"
        },
        "id": "y0TJ-Ws8Lqo7",
        "outputId": "93806c5f-3d47-4fe8-fdf9-8d83fe4a6e41"
      },
      "outputs": [
        {
          "data": {
            "text/plain": [
              "12"
            ]
          },
          "execution_count": 15,
          "metadata": {},
          "output_type": "execute_result"
        }
      ],
      "source": [
        "f(2)"
      ]
    },
    {
      "cell_type": "code",
      "execution_count": null,
      "metadata": {
        "id": "VwQARpEhLr9D"
      },
      "outputs": [],
      "source": []
    }
  ],
  "metadata": {
    "colab": {
      "authorship_tag": "ABX9TyPDD3kV8ldAyh5kuaohOase",
      "collapsed_sections": [],
      "include_colab_link": true,
      "provenance": []
    },
    "kernelspec": {
      "display_name": "Python 3",
      "name": "python3"
    },
    "language_info": {
      "name": "python"
    }
  },
  "nbformat": 4,
  "nbformat_minor": 0
}
